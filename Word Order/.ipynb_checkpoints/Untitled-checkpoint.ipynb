{
 "cells": [
  {
   "cell_type": "code",
   "execution_count": 1,
   "metadata": {},
   "outputs": [],
   "source": [
    "test_data='Lorem ipsum dolor sit amet, consectetur adipiscing elit. Pellentesque nisl metus, suscipit in elit et, tincidunt porttitor ligula. Morbi eu tristique sapien. Vestibulum velit arcu, aliquam sit amet commodo nec, aliquam nec massa. Integer convallis dolor malesuada, pellentesque est vitae, dictum nunc. Duis eleifend convallis ligula ut varius. Aenean ut interdum arcu. Vivamus vitae leo ut enim laoreet tempor et sed tellus. Praesent odio turpis, vulputate non maximus id, luctus nec est. Suspendisse placerat porta mi ut facilisis. Duis pharetra gravida lorem eget semper. Mauris orci eros, ullamcorper ut hendrerit a, posuere eu elit. Aenean sit amet felis vitae tellus pulvinar mollis eget quis elit. Etiam a lobortis justo. Suspendisse mattis id odio finibus sagittis.'"
   ]
  },
  {
   "cell_type": "code",
   "execution_count": 2,
   "metadata": {},
   "outputs": [
    {
     "name": "stdout",
     "output_type": "stream",
     "text": [
      "['Lorem', 'Ipsum', 'Dolor', 'Sit', 'Amet', 'Consectetur', 'Adipiscing', 'Elit', 'Pellentesque', 'Nisl', 'Metus', 'Suscipit', 'In', 'Elit', 'Et', 'Tincidunt', 'Porttitor', 'Ligula', 'Morbi', 'Eu', 'Tristique', 'Sapien', 'Vestibulum', 'Velit', 'Arcu', 'Aliquam', 'Sit', 'Amet', 'Commodo', 'Nec', 'Aliquam', 'Nec', 'Massa', 'Integer', 'Convallis', 'Dolor', 'Malesuada', 'Pellentesque', 'Est', 'Vitae', 'Dictum', 'Nunc', 'Duis', 'Eleifend', 'Convallis', 'Ligula', 'Ut', 'Varius', 'Aenean', 'Ut', 'Interdum', 'Arcu', 'Vivamus', 'Vitae', 'Leo', 'Ut', 'Enim', 'Laoreet', 'Tempor', 'Et', 'Sed', 'Tellus', 'Praesent', 'Odio', 'Turpis', 'Vulputate', 'Non', 'Maximus', 'Id', 'Luctus', 'Nec', 'Est', 'Suspendisse', 'Placerat', 'Porta', 'Mi', 'Ut', 'Facilisis', 'Duis', 'Pharetra', 'Gravida', 'Lorem', 'Eget', 'Semper', 'Mauris', 'Orci', 'Eros', 'Ullamcorper', 'Ut', 'Hendrerit', 'A', 'Posuere', 'Eu', 'Elit', 'Aenean', 'Sit', 'Amet', 'Felis', 'Vitae', 'Tellus', 'Pulvinar', 'Mollis', 'Eget', 'Quis', 'Elit', 'Etiam', 'A', 'Lobortis', 'Justo', 'Suspendisse', 'Mattis', 'Id', 'Odio', 'Finibus', 'Sagittis']\n"
     ]
    }
   ],
   "source": [
    "#capitalize the first letter of every word\n",
    "test_data=test_data.title()\n",
    "#remove commas and periods\n",
    "test_data=test_data.replace(\",\",\"\")\n",
    "test_data=test_data.replace(\".\",\"\")\n",
    "#split the text into different strings\n",
    "unordered= test_data.split()\n",
    "print(unordered)"
   ]
  },
  {
   "cell_type": "code",
   "execution_count": 3,
   "metadata": {},
   "outputs": [],
   "source": [
    "#sort words alphabetically & remove duplicates \n",
    "def sortLexo(string):\n",
    "    string.sort()\n",
    "    i=0\n",
    "    while i < len(string)-1:\n",
    "        if string[i]==string[i+1]:\n",
    "            del string[i]\n",
    "        else:\n",
    "            i=i+1\n",
    "    for i in string:\n",
    "        print(i)"
   ]
  },
  {
   "cell_type": "code",
   "execution_count": 4,
   "metadata": {},
   "outputs": [
    {
     "name": "stdout",
     "output_type": "stream",
     "text": [
      "A\n",
      "Adipiscing\n",
      "Aenean\n",
      "Aliquam\n",
      "Amet\n",
      "Arcu\n",
      "Commodo\n",
      "Consectetur\n",
      "Convallis\n",
      "Dictum\n",
      "Dolor\n",
      "Duis\n",
      "Eget\n",
      "Eleifend\n",
      "Elit\n",
      "Enim\n",
      "Eros\n",
      "Est\n",
      "Et\n",
      "Etiam\n",
      "Eu\n",
      "Facilisis\n",
      "Felis\n",
      "Finibus\n",
      "Gravida\n",
      "Hendrerit\n",
      "Id\n",
      "In\n",
      "Integer\n",
      "Interdum\n",
      "Ipsum\n",
      "Justo\n",
      "Laoreet\n",
      "Leo\n",
      "Ligula\n",
      "Lobortis\n",
      "Lorem\n",
      "Luctus\n",
      "Malesuada\n",
      "Massa\n",
      "Mattis\n",
      "Mauris\n",
      "Maximus\n",
      "Metus\n",
      "Mi\n",
      "Mollis\n",
      "Morbi\n",
      "Nec\n",
      "Nisl\n",
      "Non\n",
      "Nunc\n",
      "Odio\n",
      "Orci\n",
      "Pellentesque\n",
      "Pharetra\n",
      "Placerat\n",
      "Porta\n",
      "Porttitor\n",
      "Posuere\n",
      "Praesent\n",
      "Pulvinar\n",
      "Quis\n",
      "Sagittis\n",
      "Sapien\n",
      "Sed\n",
      "Semper\n",
      "Sit\n",
      "Suscipit\n",
      "Suspendisse\n",
      "Tellus\n",
      "Tempor\n",
      "Tincidunt\n",
      "Tristique\n",
      "Turpis\n",
      "Ullamcorper\n",
      "Ut\n",
      "Varius\n",
      "Velit\n",
      "Vestibulum\n",
      "Vitae\n",
      "Vivamus\n",
      "Vulputate\n"
     ]
    }
   ],
   "source": [
    "sortLexo(unordered)"
   ]
  },
  {
   "cell_type": "code",
   "execution_count": null,
   "metadata": {},
   "outputs": [],
   "source": []
  }
 ],
 "metadata": {
  "kernelspec": {
   "display_name": "Python 3",
   "language": "python",
   "name": "python3"
  },
  "language_info": {
   "codemirror_mode": {
    "name": "ipython",
    "version": 3
   },
   "file_extension": ".py",
   "mimetype": "text/x-python",
   "name": "python",
   "nbconvert_exporter": "python",
   "pygments_lexer": "ipython3",
   "version": "3.8.3"
  }
 },
 "nbformat": 4,
 "nbformat_minor": 4
}
